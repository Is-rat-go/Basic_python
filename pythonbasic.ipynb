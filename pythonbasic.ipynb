{
  "nbformat": 4,
  "nbformat_minor": 0,
  "metadata": {
    "colab": {
      "provenance": [],
      "authorship_tag": "ABX9TyPLstoTKYqEuQO7pvjrXIEA",
      "include_colab_link": true
    },
    "kernelspec": {
      "name": "python3",
      "display_name": "Python 3"
    },
    "language_info": {
      "name": "python"
    }
  },
  "cells": [
    {
      "cell_type": "markdown",
      "metadata": {
        "id": "view-in-github",
        "colab_type": "text"
      },
      "source": [
        "<a href=\"https://colab.research.google.com/github/Is-rat-go/Basic_python/blob/main/pythonbasic.ipynb\" target=\"_parent\"><img src=\"https://colab.research.google.com/assets/colab-badge.svg\" alt=\"Open In Colab\"/></a>"
      ]
    },
    {
      "cell_type": "code",
      "execution_count": null,
      "metadata": {
        "colab": {
          "base_uri": "https://localhost:8080/"
        },
        "id": "pmBONnOekb1p",
        "outputId": "0b6aa542-0291-4806-95f4-74cac0e1603a"
      },
      "outputs": [
        {
          "output_type": "stream",
          "name": "stdout",
          "text": [
            "Salam\n"
          ]
        }
      ],
      "source": [
        "#print:\n",
        "print(\"Salam\")"
      ]
    },
    {
      "cell_type": "code",
      "source": [
        "#variable:\n",
        "a=10\n",
        "b=45\n",
        "c=a+b\n",
        "\n"
      ],
      "metadata": {
        "colab": {
          "base_uri": "https://localhost:8080/"
        },
        "id": "RrNX5VuvnCe5",
        "outputId": "aac6f63a-4166-4a98-ce84-e2b586a0c9cc"
      },
      "execution_count": 1,
      "outputs": [
        {
          "output_type": "stream",
          "name": "stdout",
          "text": [
            "55\n"
          ]
        }
      ]
    },
    {
      "cell_type": "code",
      "source": [
        "#type casting;\n",
        "n=input()\n",
        "m=10.5\n",
        "print(\"sum:\", float(n)+m)"
      ],
      "metadata": {
        "colab": {
          "base_uri": "https://localhost:8080/"
        },
        "id": "2tp1VDIjnCP3",
        "outputId": "b8e7bb76-7bcb-4ed2-acdc-85d4b422b804"
      },
      "execution_count": 10,
      "outputs": [
        {
          "output_type": "stream",
          "name": "stdout",
          "text": [
            "20\n",
            "sum: 30.5\n"
          ]
        }
      ]
    },
    {
      "cell_type": "code",
      "source": [
        "#type casting;\n",
        "n=input()   #here n hasen't any limitations! that's why n can be float/int/str/char... etc\n",
        "m=input()\n",
        "print(\"sum:\",n+str(m))"
      ],
      "metadata": {
        "outputId": "6e1701d6-3383-4339-bc58-b1634be5ca7c",
        "colab": {
          "base_uri": "https://localhost:8080/"
        },
        "id": "2bi73XR9sofQ"
      },
      "execution_count": 18,
      "outputs": [
        {
          "output_type": "stream",
          "name": "stdout",
          "text": [
            "10.45.67\n",
            "er\n",
            "sum: 10.45.67er\n"
          ]
        }
      ]
    },
    {
      "cell_type": "code",
      "source": [
        "#loop:\n",
        "\n",
        "\"\"\"\n",
        "threepol cotta use for multiple line!\n",
        "for i in range (5):\n",
        "  print(i)\n",
        "\"\"\"\n",
        "\n",
        "\"\"\"\n",
        "for i in range (0, 6):\n",
        "  print(i)\n",
        "\"\"\"\n",
        "\n",
        "for i in range(1,6,2):   #here for '2' skip 1 number from the array,if had 3 then skip 2 number!\n",
        "  print(i)  # it also can be called to find odd number from the array of 0,1,2,3,4,5,6.\n"
      ],
      "metadata": {
        "colab": {
          "base_uri": "https://localhost:8080/"
        },
        "id": "-BqOo5i2nCHg",
        "outputId": "2ee80b9b-4a09-4269-f3d9-739c1e824fb5"
      },
      "execution_count": 27,
      "outputs": [
        {
          "output_type": "stream",
          "name": "stdout",
          "text": [
            "1\n",
            "3\n",
            "5\n"
          ]
        }
      ]
    },
    {
      "cell_type": "code",
      "source": [
        "#for find even from the array set of 0,1,2,3,4,5,6:\n",
        "for i in range (0,6,2):\n",
        "  print(i)\n"
      ],
      "metadata": {
        "colab": {
          "base_uri": "https://localhost:8080/"
        },
        "id": "7td0amoJnCB4",
        "outputId": "e13896f5-a45c-4100-c409-47b67a02372b"
      },
      "execution_count": 28,
      "outputs": [
        {
          "output_type": "stream",
          "name": "stdout",
          "text": [
            "0\n",
            "2\n",
            "4\n"
          ]
        }
      ]
    },
    {
      "cell_type": "code",
      "source": [
        "#find series sum: 1+2+3+4+...+100=?\n",
        "\n",
        "sum=0\n",
        "for i in range ( 1,101):\n",
        "  sum=sum+i\n",
        "  print(sum)"
      ],
      "metadata": {
        "colab": {
          "base_uri": "https://localhost:8080/"
        },
        "id": "wDzWOlJenAaA",
        "outputId": "a247417a-1587-464a-d2a7-021bc8c6c636"
      },
      "execution_count": 33,
      "outputs": [
        {
          "output_type": "stream",
          "name": "stdout",
          "text": [
            "1\n",
            "3\n",
            "6\n",
            "10\n",
            "15\n",
            "21\n",
            "28\n",
            "36\n",
            "45\n",
            "55\n",
            "66\n",
            "78\n",
            "91\n",
            "105\n",
            "120\n",
            "136\n",
            "153\n",
            "171\n",
            "190\n",
            "210\n",
            "231\n",
            "253\n",
            "276\n",
            "300\n",
            "325\n",
            "351\n",
            "378\n",
            "406\n",
            "435\n",
            "465\n",
            "496\n",
            "528\n",
            "561\n",
            "595\n",
            "630\n",
            "666\n",
            "703\n",
            "741\n",
            "780\n",
            "820\n",
            "861\n",
            "903\n",
            "946\n",
            "990\n",
            "1035\n",
            "1081\n",
            "1128\n",
            "1176\n",
            "1225\n",
            "1275\n",
            "1326\n",
            "1378\n",
            "1431\n",
            "1485\n",
            "1540\n",
            "1596\n",
            "1653\n",
            "1711\n",
            "1770\n",
            "1830\n",
            "1891\n",
            "1953\n",
            "2016\n",
            "2080\n",
            "2145\n",
            "2211\n",
            "2278\n",
            "2346\n",
            "2415\n",
            "2485\n",
            "2556\n",
            "2628\n",
            "2701\n",
            "2775\n",
            "2850\n",
            "2926\n",
            "3003\n",
            "3081\n",
            "3160\n",
            "3240\n",
            "3321\n",
            "3403\n",
            "3486\n",
            "3570\n",
            "3655\n",
            "3741\n",
            "3828\n",
            "3916\n",
            "4005\n",
            "4095\n",
            "4186\n",
            "4278\n",
            "4371\n",
            "4465\n",
            "4560\n",
            "4656\n",
            "4753\n",
            "4851\n",
            "4950\n",
            "5050\n"
          ]
        }
      ]
    }
  ]
}