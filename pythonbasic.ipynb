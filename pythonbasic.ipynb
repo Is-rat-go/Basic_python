{
  "nbformat": 4,
  "nbformat_minor": 0,
  "metadata": {
    "colab": {
      "provenance": [],
      "authorship_tag": "ABX9TyNPdYeA3MWLeDZCdv0BsMRo",
      "include_colab_link": true
    },
    "kernelspec": {
      "name": "python3",
      "display_name": "Python 3"
    },
    "language_info": {
      "name": "python"
    }
  },
  "cells": [
    {
      "cell_type": "markdown",
      "metadata": {
        "id": "view-in-github",
        "colab_type": "text"
      },
      "source": [
        "<a href=\"https://colab.research.google.com/github/Is-rat-go/Basic_python/blob/main/pythonbasic.ipynb\" target=\"_parent\"><img src=\"https://colab.research.google.com/assets/colab-badge.svg\" alt=\"Open In Colab\"/></a>"
      ]
    },
    {
      "cell_type": "code",
      "execution_count": null,
      "metadata": {
        "colab": {
          "base_uri": "https://localhost:8080/"
        },
        "id": "pmBONnOekb1p",
        "outputId": "0b6aa542-0291-4806-95f4-74cac0e1603a"
      },
      "outputs": [
        {
          "output_type": "stream",
          "name": "stdout",
          "text": [
            "Salam\n"
          ]
        }
      ],
      "source": [
        "#print:\n",
        "print(\"Salam\")"
      ]
    },
    {
      "cell_type": "code",
      "source": [
        "#variable:\n",
        "a=10\n",
        "b=45\n",
        "c=a+b\n",
        "\n"
      ],
      "metadata": {
        "colab": {
          "base_uri": "https://localhost:8080/"
        },
        "id": "RrNX5VuvnCe5",
        "outputId": "aac6f63a-4166-4a98-ce84-e2b586a0c9cc"
      },
      "execution_count": 1,
      "outputs": [
        {
          "output_type": "stream",
          "name": "stdout",
          "text": [
            "55\n"
          ]
        }
      ]
    },
    {
      "cell_type": "code",
      "source": [
        "#type casting;\n",
        "n=input()\n",
        "m=10.5\n",
        "print(\"sum:\", float(n)+m)"
      ],
      "metadata": {
        "colab": {
          "base_uri": "https://localhost:8080/"
        },
        "id": "2tp1VDIjnCP3",
        "outputId": "b8e7bb76-7bcb-4ed2-acdc-85d4b422b804"
      },
      "execution_count": 10,
      "outputs": [
        {
          "output_type": "stream",
          "name": "stdout",
          "text": [
            "20\n",
            "sum: 30.5\n"
          ]
        }
      ]
    },
    {
      "cell_type": "code",
      "source": [
        "#type casting;\n",
        "n=input()   #here n hasen't any limitations! that's why n can be float/int/str/char... etc\n",
        "m=input()\n",
        "print(\"sum:\",n+str(m))"
      ],
      "metadata": {
        "outputId": "6e1701d6-3383-4339-bc58-b1634be5ca7c",
        "colab": {
          "base_uri": "https://localhost:8080/"
        },
        "id": "2bi73XR9sofQ"
      },
      "execution_count": 18,
      "outputs": [
        {
          "output_type": "stream",
          "name": "stdout",
          "text": [
            "10.45.67\n",
            "er\n",
            "sum: 10.45.67er\n"
          ]
        }
      ]
    },
    {
      "cell_type": "code",
      "source": [
        "#loop:\n",
        "\n",
        "\"\"\"\n",
        "threepol cotta use for multiple line!\n",
        "for i in range (5):\n",
        "  print(i)\n",
        "\"\"\"\n",
        "\n",
        "\"\"\"\n",
        "for i in range (0, 6):\n",
        "  print(i)\n",
        "\"\"\"\n",
        "\n",
        "for i in range(1,6,2):   #here for '2' skip 1 number from the array,if had 3 then skip 2 number!\n",
        "  print(i)  # it also can be called to find odd number from the array of 0,1,2,3,4,5,6.\n"
      ],
      "metadata": {
        "colab": {
          "base_uri": "https://localhost:8080/"
        },
        "id": "-BqOo5i2nCHg",
        "outputId": "2ee80b9b-4a09-4269-f3d9-739c1e824fb5"
      },
      "execution_count": 27,
      "outputs": [
        {
          "output_type": "stream",
          "name": "stdout",
          "text": [
            "1\n",
            "3\n",
            "5\n"
          ]
        }
      ]
    },
    {
      "cell_type": "code",
      "source": [
        "#for find even from the array set of 0,1,2,3,4,5,6:\n",
        "for i in range (0,6,2):\n",
        "  print(i)\n"
      ],
      "metadata": {
        "colab": {
          "base_uri": "https://localhost:8080/"
        },
        "id": "7td0amoJnCB4",
        "outputId": "e13896f5-a45c-4100-c409-47b67a02372b"
      },
      "execution_count": 28,
      "outputs": [
        {
          "output_type": "stream",
          "name": "stdout",
          "text": [
            "0\n",
            "2\n",
            "4\n"
          ]
        }
      ]
    },
    {
      "cell_type": "code",
      "source": [
        "\n",
        "\n",
        "\n",
        "\n",
        "\n",
        "\n",
        "\n",
        "\n",
        "\n",
        "\n"
      ],
      "metadata": {
        "id": "Q2sVeNm3nB3Y"
      },
      "execution_count": null,
      "outputs": []
    },
    {
      "cell_type": "code",
      "source": [],
      "metadata": {
        "id": "MiQrPoAonBpg"
      },
      "execution_count": null,
      "outputs": []
    },
    {
      "cell_type": "code",
      "source": [],
      "metadata": {
        "id": "wDzWOlJenAaA"
      },
      "execution_count": null,
      "outputs": []
    }
  ]
}